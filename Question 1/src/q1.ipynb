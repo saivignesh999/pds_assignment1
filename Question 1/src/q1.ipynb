import pandas as pd
import numpy as np
from scipy.stats import t

# Load data from CSV file
data = pd.read_csv('student_performance.csv')

# Perform Welch's t-test
age_n = data[data['Frailty'] == 'N']['Age']
age_y = data[data['Frailty'] == 'Y']['Age']
t_statistic = (age_n.mean() - age_y.mean()) / np.sqrt(age_n.var(ddof=1)/len(age_n) + age_y.var(ddof=1)/len(age_y))
df = (age_n.var(ddof=1)/len(age_n) + age_y.var(ddof=1)/len(age_y))*2 / ((age_n.var(ddof=1)/len(age_n))2/(len(age_n)-1) + (age_y.var(ddof=1)/len(age_y))*2/(len(age_y)-1))
p_value = 2 * (1 - t.cdf(abs(t_statistic), df))

# Calculate the confidence interval
conf_interval = (age_n.mean() - age_y.mean()) + np.array(t.interval(0.95, df, loc=0, scale=np.sqrt(age_n.var(ddof=1)/len(age_n) + age_y.var(ddof=1)/len(age_y)) * np.sqrt(1/len(age_n) + 1/len(age_y))))

# Print the results
print(f"Welch Two Sample t-test:")
print(f"t = {t_statistic:.4f}, df = {df:.4f}, p-value = {p_value:.4f}")
print(f"95 percent confidence interval: {conf_interval[0]:.5f} {conf_interval[1]:.5f}")
print(f"sample estimates:")
print(f"mean in group N: {age_n.mean():.2f}")
print(f"mean in group Y: {age_y.mean():.2f}")
